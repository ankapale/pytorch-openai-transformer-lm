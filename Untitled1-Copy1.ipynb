{
 "cells": [
  {
   "cell_type": "code",
   "execution_count": 1,
   "metadata": {},
   "outputs": [],
   "source": [
    "import torch\n",
    "import numpy as np\n",
    "from text_utils import TextEncoder\n",
    "from model_pytorch import *"
   ]
  },
  {
   "cell_type": "code",
   "execution_count": 2,
   "metadata": {},
   "outputs": [],
   "source": [
    "class CustomLMModel(torch.nn.Module):\n",
    "    \"\"\" Transformer with language model head only \"\"\"\n",
    "    def __init__(self, cfg, vocab=40990, n_ctx=512, return_probs=True,\n",
    "                 encoder_path='./model/encoder_bpe_40000.json', bpe_path='./model/vocab_40000.bpe'):\n",
    "        super(CustomLMModel, self).__init__()\n",
    "        self.transformer = TransformerModel(cfg, vocab=vocab, n_ctx=n_ctx)\n",
    "        self.lm_head = LMHead(self.transformer, cfg, trunc_and_reshape=False)\n",
    "        self.return_probs = return_probs\n",
    "        self.text_encoder = TextEncoder(encoder_path,bpe_path)\n",
    "        \n",
    "        if self.return_probs:\n",
    "            pos_emb_mask = torch.zeros(1, 1, vocab)\n",
    "            pos_emb_mask[:, :, -n_ctx:] = -1e12\n",
    "            self.register_buffer('pos_emb_mask', pos_emb_mask)\n",
    "\n",
    "\n",
    "    def forward(self, x):\n",
    "        h = self.transformer(x)\n",
    "        lm_logits = self.lm_head(h)\n",
    "        if self.return_probs:\n",
    "            lm_logits = F.softmax(lm_logits + self.pos_emb_mask, dim=-1)\n",
    "        return lm_logits"
   ]
  },
  {
   "cell_type": "code",
   "execution_count": 3,
   "metadata": {},
   "outputs": [],
   "source": [
    "lm_model = torch.load('./trained_lm_model')\n",
    "device = \"cpu\""
   ]
  },
  {
   "cell_type": "code",
   "execution_count": null,
   "metadata": {},
   "outputs": [],
   "source": [
    "def make_batch(X, n_vocab):\n",
    "    X = np.array(X)\n",
    "    assert X.ndim in [1, 2]\n",
    "    if X.ndim == 1:\n",
    "        X = np.expand_dims(X, axis=0)\n",
    "    pos_enc = np.arange(n_vocab, n_vocab + X.shape[-1])\n",
    "    pos_enc = np.expand_dims(pos_enc, axis=0)\n",
    "    batch = np.stack([X, pos_enc], axis=-1)\n",
    "    batch = torch.tensor(batch, dtype=torch.long).to(device)\n",
    "    return batch\n",
    "\n",
    "def append_batch(X, next_idx):\n",
    "    next_pos = X[:, -1:, 1] + 1\n",
    "    next_x = torch.cat((next_idx, next_pos), -1).unsqueeze(1)\n",
    "    return torch.cat((X, next_x), 1)"
   ]
  },
  {
   "cell_type": "code",
   "execution_count": 4,
   "metadata": {},
   "outputs": [],
   "source": [
    "def predict_next_word(text, gen_len=20, topk=10):\n",
    "    n_vocab = len(lm_model.text_encoder.encoder)\n",
    "    encoded_text = lm_model.text_encoder.encode([text,])\n",
    "    encoded_text = make_batch(encoded_text, n_vocab)\n",
    "    \n",
    "    for _ in range(gen_len):\n",
    "        lm_probs = lm_model(encoded_text)\n",
    "        values, indices = lm_probs[:, -1, :].topk(topk)\n",
    "        next_idx = indices.gather(-1, torch.multinomial(values, 1))\n",
    "        next_token = lm_model.text_encoder.decoder[next_idx.item()].replace('</w>', '')\n",
    "        print(next_token, end=' ')\n",
    "        encoded_text = append_batch(encoded_text, next_idx)\n",
    "        "
   ]
  },
  {
   "cell_type": "code",
   "execution_count": 6,
   "metadata": {},
   "outputs": [
    {
     "name": "stderr",
     "output_type": "stream",
     "text": [
      "                                                                                \r"
     ]
    },
    {
     "name": "stdout",
     "output_type": "stream",
     "text": [
      ", and i 'm sure i can help you with that as well . \" \n",
      " \" what do you "
     ]
    }
   ],
   "source": [
    "predict_next_word('this model works')"
   ]
  },
  {
   "cell_type": "code",
   "execution_count": null,
   "metadata": {},
   "outputs": [],
   "source": []
  }
 ],
 "metadata": {
  "kernelspec": {
   "display_name": "Python 3",
   "language": "python",
   "name": "python3"
  },
  "language_info": {
   "codemirror_mode": {
    "name": "ipython",
    "version": 3
   },
   "file_extension": ".py",
   "mimetype": "text/x-python",
   "name": "python",
   "nbconvert_exporter": "python",
   "pygments_lexer": "ipython3",
   "version": "3.6.3"
  }
 },
 "nbformat": 4,
 "nbformat_minor": 2
}
